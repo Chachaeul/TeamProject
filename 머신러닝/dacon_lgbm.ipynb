{
 "cells": [
  {
   "cell_type": "markdown",
   "metadata": {},
   "source": [
    "#### Load"
   ]
  },
  {
   "cell_type": "code",
   "execution_count": 1,
   "metadata": {},
   "outputs": [],
   "source": [
    "import pandas as pd\n",
    "import numpy as np\n",
    "import matplotlib.pyplot as plt"
   ]
  },
  {
   "cell_type": "code",
   "execution_count": 2,
   "metadata": {},
   "outputs": [],
   "source": [
    "train=pd.read_csv('../open data/train.csv',index_col=0)\n",
    "test=pd.read_csv('../open data/test_x.csv',index_col=0)\n",
    "submission=pd.read_csv('../open data/sample_submission.csv')"
   ]
  },
  {
   "cell_type": "code",
   "execution_count": 3,
   "metadata": {},
   "outputs": [],
   "source": [
    "train=train.reset_index(drop=True)\n",
    "test=test.reset_index(drop=True)"
   ]
  },
  {
   "cell_type": "markdown",
   "metadata": {},
   "source": [
    "#### 특징\n",
    "\n",
    "1. 동의하지않음 비율 ( age_group, education, engnat) \n",
    "2. Question Time 적게는 1분에서 많게는 30분인 질문들 즉, 시간이 너무 많이 쓴 데이터 제거. (사람 평균 200 밀리초) [link](https://news.joins.com/article/2869262) 출처 : [link](https://openpsychometrics.org/)\n",
    "3. 종교 (0,1,11),(2,7,9,10),(3,4,5,6,8)\n",
    "4. tp - 0~7 수준 나누기 0 12 345 67\n",
    "5. 교육수준 0,2 묶기 1 3,4 묶기\n",
    "6. 인종 아랍,아시아 묶기 블랙 호주 아메리칸 아더 묶기 와이트\n",
    "7. 결혼 했냐 안했냐로 0,1 2,3 묶기 \n",
    "8. 나이 10대 20,30 대 40,50 대 60,70대 \n",
    "9. drop ( engnat familysize gender hand urban )"
   ]
  },
  {
   "cell_type": "markdown",
   "metadata": {},
   "source": [
    "#### time"
   ]
  },
  {
   "cell_type": "code",
   "execution_count": 4,
   "metadata": {},
   "outputs": [],
   "source": [
    "cols=[col for col in train.columns if 'E' in col]"
   ]
  },
  {
   "cell_type": "code",
   "execution_count": 5,
   "metadata": {
    "scrolled": true
   },
   "outputs": [],
   "source": [
    "def removeOutlier(df):\n",
    "    for col in cols:\n",
    "        sub=df[col]\n",
    "        lower=sub.quantile(0.001)\n",
    "        upper=sub.quantile(0.999)\n",
    "        sub=sub[(sub>=lower)&(sub<=upper)]\n",
    "        df[col]=sub\n",
    "    return df\n",
    "\n",
    "train=removeOutlier(train)\n",
    "train=train.dropna()"
   ]
  },
  {
   "cell_type": "markdown",
   "metadata": {},
   "source": [
    "#### religion"
   ]
  },
  {
   "cell_type": "code",
   "execution_count": 6,
   "metadata": {},
   "outputs": [],
   "source": [
    "religionMap={\n",
    "    'Agnostic':0,\n",
    "    'Atheist':0,\n",
    "    'Other':0,\n",
    "    'Buddhist':1,\n",
    "    'Hindu':1,\n",
    "    'Muslim':1,\n",
    "    'Sikh':1,\n",
    "    'Christian_Catholic':2,\n",
    "    'Christian_Mormon':2,\n",
    "    'Christian_Protestant':2,\n",
    "    'Christian_Other':2,\n",
    "    'Jewish':2\n",
    "}\n",
    "\n",
    "train['religion']=train['religion'].map(religionMap)\n",
    "test['religion']=test['religion'].map(religionMap)"
   ]
  },
  {
   "cell_type": "markdown",
   "metadata": {},
   "source": [
    "#### education"
   ]
  },
  {
   "cell_type": "code",
   "execution_count": 7,
   "metadata": {},
   "outputs": [],
   "source": [
    "educationMap={\n",
    "    0:0,\n",
    "    1:0,\n",
    "    2:0,\n",
    "    3:1,\n",
    "    4:1\n",
    "}\n",
    "\n",
    "train['education']=train['education'].map(educationMap)\n",
    "test['education']=test['education'].map(educationMap)"
   ]
  },
  {
   "cell_type": "markdown",
   "metadata": {},
   "source": [
    "#### race"
   ]
  },
  {
   "cell_type": "code",
   "execution_count": 8,
   "metadata": {},
   "outputs": [],
   "source": [
    "raceMap={\n",
    "    'Asian':2,\n",
    "    'Arab':2,\n",
    "    'Black':1,\n",
    "    'Indigenous Australian':1,\n",
    "    'Native American':1,\n",
    "    'Other':1,\n",
    "    'White':0\n",
    "}\n",
    "\n",
    "train['race']=train['race'].map(raceMap)\n",
    "test['race']=test['race'].map(raceMap)"
   ]
  },
  {
   "cell_type": "markdown",
   "metadata": {},
   "source": [
    "#### married"
   ]
  },
  {
   "cell_type": "code",
   "execution_count": 9,
   "metadata": {},
   "outputs": [],
   "source": [
    "marriedMap={\n",
    "    0:0,\n",
    "    1:0,\n",
    "    2:1,\n",
    "    3:1\n",
    "}\n",
    "\n",
    "train['married']=train['married'].map(marriedMap)\n",
    "test['married']=test['married'].map(marriedMap)"
   ]
  },
  {
   "cell_type": "markdown",
   "metadata": {},
   "source": [
    "#### age"
   ]
  },
  {
   "cell_type": "code",
   "execution_count": 10,
   "metadata": {},
   "outputs": [],
   "source": [
    "def ageBand(x):\n",
    "    if x=='10s':\n",
    "        return 0\n",
    "    elif (x=='20s')or(x=='30s'):\n",
    "        return 1\n",
    "    elif (x=='40s')or(x=='50s'):\n",
    "        return 2\n",
    "    elif (x=='60s')or(x=='+70s'):\n",
    "        return 3\n",
    "    \n",
    "train['age_group']=train['age_group'].apply(ageBand)\n",
    "test['age_group']=test['age_group'].apply(ageBand)"
   ]
  },
  {
   "cell_type": "markdown",
   "metadata": {},
   "source": [
    "#### tp"
   ]
  },
  {
   "cell_type": "code",
   "execution_count": 11,
   "metadata": {},
   "outputs": [],
   "source": [
    "def Filter(x):\n",
    "    if x<1:\n",
    "        return 0\n",
    "    if x<3:\n",
    "        return 0\n",
    "    elif x<6:\n",
    "        return 1\n",
    "    else:\n",
    "        return 2\n",
    "    \n",
    "cols=[col for col in train.columns if 'tp' in col]\n",
    "\n",
    "def get_tp(df):\n",
    "    for col in cols:\n",
    "        df[col]=df[col].apply(Filter)\n",
    "    return df\n",
    "\n",
    "train=get_tp(train)\n",
    "test=get_tp(test)"
   ]
  },
  {
   "cell_type": "markdown",
   "metadata": {},
   "source": [
    "#### question"
   ]
  },
  {
   "cell_type": "code",
   "execution_count": 12,
   "metadata": {},
   "outputs": [],
   "source": [
    "group45=['QaA','QqA']\n",
    "group1=['QbA','QcA','QoA','QpA','QsA','QtA']\n",
    "group12=['QjA','QmA']\n",
    "\n",
    "cols=[col for col in train.columns if 'A' in col]\n",
    "dropCol=[]\n",
    "def question(df):\n",
    "    for col in cols:\n",
    "        if col in group1:\n",
    "            df[col]=df[col].map({1:1,2:0,3:0,4:0,5:0})\n",
    "        elif col in group12:\n",
    "            df[col]=df[col].map({1:1,2:1,3:0,4:0,5:0})\n",
    "        elif col in group45:\n",
    "            df[col]=df[col].map({1:0,2:0,3:0,4:1,5:1})\n",
    "        else:\n",
    "            dropCol.append(col)\n",
    "    return df\n",
    "\n",
    "train=question(train)\n",
    "test=question(test)"
   ]
  },
  {
   "cell_type": "markdown",
   "metadata": {},
   "source": [
    "#### not used cols"
   ]
  },
  {
   "cell_type": "code",
   "execution_count": 13,
   "metadata": {},
   "outputs": [],
   "source": [
    "not_usecols=['engnat','familysize','gender','hand','urban',\n",
    "            'wf_01','wf_02','wf_03','wr_01','wr_02','wr_03',\n",
    "             'wr_04','wr_05','wr_06','wr_07','wr_08','wr_09',\n",
    "             'wr_10','wr_11','wr_12','wr_13']\n",
    "\n",
    "def change(df):\n",
    "    for col in not_usecols:\n",
    "        df=df.drop(col,axis=1)\n",
    "    return df\n",
    "\n",
    "train=change(train)\n",
    "test=change(test)"
   ]
  },
  {
   "cell_type": "markdown",
   "metadata": {},
   "source": [
    "#### mean encoding"
   ]
  },
  {
   "cell_type": "code",
   "execution_count": 14,
   "metadata": {},
   "outputs": [],
   "source": [
    "from sklearn.model_selection import StratifiedKFold\n",
    "\n",
    "kfold=StratifiedKFold(n_splits=5,shuffle=True,random_state=2020)\n",
    "cols=['age_group', 'education', 'married', 'race', 'religion']\n",
    "globalMean=train['voted'].mean()\n",
    "alpha=5\n",
    "encode_=pd.DataFrame()\n",
    "\n",
    "for col in cols:\n",
    "    parts=[]\n",
    "    for train_idx,valid_idx in kfold.split(train.drop('voted',axis=1),train['voted']):\n",
    "        X_tr,X_val=train.iloc[train_idx],train.iloc[valid_idx]\n",
    "        nrows=X_tr.groupby(col)['voted'].count()\n",
    "        mean=X_tr.groupby(col)['voted'].mean()\n",
    "        smooth=(mean*nrows+globalMean*alpha)/(alpha+nrows)\n",
    "        test[f'mean_{col}']=test[col].map(smooth)\n",
    "        encoded=X_val[col].map(smooth)\n",
    "        parts.append(encoded)\n",
    "    encode=pd.concat(parts,axis=0)\n",
    "    encode_=pd.concat([encode_,encode],axis=1)\n",
    "encode_=encode_.sort_index()\n",
    "encode_.columns=[f\"mean_{col}\" for col in encode_.columns]\n",
    "train=pd.concat([train,encode_],axis=1)"
   ]
  },
  {
   "cell_type": "code",
   "execution_count": 15,
   "metadata": {},
   "outputs": [],
   "source": [
    "train=train.drop(dropCol,axis=1)\n",
    "test=test.drop(dropCol,axis=1)"
   ]
  },
  {
   "cell_type": "markdown",
   "metadata": {},
   "source": [
    "#### frequent encoding"
   ]
  },
  {
   "cell_type": "code",
   "execution_count": 16,
   "metadata": {},
   "outputs": [],
   "source": [
    "cols=['age_group','education','married','race','religion']\n",
    "\n",
    "for col in cols:\n",
    "    freqMap=train.groupby(col)['voted'].count()/train.shape[0]\n",
    "    \n",
    "    train[f'freq_{col}']=train[col].map(freqMap)\n",
    "    test[f'freq_{col}']=test[col].map(freqMap)"
   ]
  },
  {
   "cell_type": "markdown",
   "metadata": {},
   "source": [
    "#### split X,y"
   ]
  },
  {
   "cell_type": "code",
   "execution_count": 17,
   "metadata": {},
   "outputs": [],
   "source": [
    "train['voted']=train['voted'].map({2:1,1:0})"
   ]
  },
  {
   "cell_type": "code",
   "execution_count": 18,
   "metadata": {},
   "outputs": [],
   "source": [
    "X=train.drop('voted',axis=1)\n",
    "y=train['voted']"
   ]
  },
  {
   "cell_type": "code",
   "execution_count": 19,
   "metadata": {
    "scrolled": true
   },
   "outputs": [
    {
     "name": "stdout",
     "output_type": "stream",
     "text": [
      "done\n"
     ]
    }
   ],
   "source": [
    "import lightgbm\n",
    "from sklearn.model_selection import StratifiedKFold\n",
    "\n",
    "cv=StratifiedKFold(n_splits=5,shuffle=True,random_state=2020)\n",
    "\n",
    "preds=[]\n",
    "\n",
    "params={\n",
    "    'objective':'binary',\n",
    "    'metric':'binary_logloss',\n",
    "    'unbalance':True,\n",
    "    'learning_rate':0.05,\n",
    "    'verbosity':-1\n",
    "}\n",
    "\n",
    "for train_idx,valid_idx in cv.split(X,y):\n",
    "    X_tr,X_val=X.iloc[train_idx],X.iloc[valid_idx]\n",
    "    y_tr,y_val=y.iloc[train_idx],y.iloc[valid_idx]\n",
    "    \n",
    "    lgb_train=lightgbm.Dataset(X_tr,y_tr)\n",
    "    lgb_valid=lightgbm.Dataset(X_val,y_val,reference=lgb_train)\n",
    "    \n",
    "    model=lightgbm.train(params,lgb_train,num_boost_round=2000,valid_sets=[lgb_valid],\n",
    "                        early_stopping_rounds=70,verbose_eval=0)\n",
    "    \n",
    "    pred=model.predict(test,num_iteration=model.best_iteration)\n",
    "    preds.append(pred)\n",
    "print(\"done\")"
   ]
  },
  {
   "cell_type": "code",
   "execution_count": 20,
   "metadata": {},
   "outputs": [],
   "source": [
    "submission['voted']=np.mean(preds,axis=0)+1"
   ]
  },
  {
   "cell_type": "code",
   "execution_count": 22,
   "metadata": {},
   "outputs": [],
   "source": [
    "submission.to_csv('../open data/submission_lgbm.csv',index=False)"
   ]
  }
 ],
 "metadata": {
  "kernelspec": {
   "display_name": "Python 3",
   "language": "python",
   "name": "python3"
  },
  "language_info": {
   "codemirror_mode": {
    "name": "ipython",
    "version": 3
   },
   "file_extension": ".py",
   "mimetype": "text/x-python",
   "name": "python",
   "nbconvert_exporter": "python",
   "pygments_lexer": "ipython3",
   "version": "3.7.6"
  }
 },
 "nbformat": 4,
 "nbformat_minor": 4
}
